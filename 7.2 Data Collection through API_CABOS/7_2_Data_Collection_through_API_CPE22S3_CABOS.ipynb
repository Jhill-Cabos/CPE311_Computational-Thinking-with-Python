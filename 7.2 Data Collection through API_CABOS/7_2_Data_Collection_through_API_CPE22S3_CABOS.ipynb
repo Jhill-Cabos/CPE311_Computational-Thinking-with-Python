{
  "nbformat": 4,
  "nbformat_minor": 0,
  "metadata": {
    "colab": {
      "provenance": []
    },
    "kernelspec": {
      "name": "python3",
      "display_name": "Python 3"
    },
    "language_info": {
      "name": "python"
    }
  },
  "cells": [
    {
      "cell_type": "markdown",
      "source": [
        "Jhillian M. Cabos ⁉"
      ],
      "metadata": {
        "id": "5EVeDP0STaYK"
      }
    },
    {
      "cell_type": "markdown",
      "source": [
        "#Using the NCEI API"
      ],
      "metadata": {
        "id": "9HJkwau3I3ag"
      }
    },
    {
      "cell_type": "code",
      "execution_count": 32,
      "metadata": {
        "id": "Nk1upoz_IxZv"
      },
      "outputs": [],
      "source": [
        "import requests\n",
        "def make_request(endpoint, payload=None):\n",
        "  return requests.get(f'https://www.ncdc.noaa.gov/cdo-web/api/v2/{endpoint}',\n",
        "headers={\n",
        "'token': 'IJdltvfSEbTvBwFTRJjulcphfvgyAJhH'\n",
        "},\n",
        "params=payload\n",
        ")"
      ]
    },
    {
      "cell_type": "markdown",
      "source": [
        "# See what datasets are available\n",
        "We can make requests to the datasets endpoint to see what datasets are available. We also pass in a dictionary for the payload to get datsets that have data after the start\n",
        "date of October 1, 2018."
      ],
      "metadata": {
        "id": "zXEEDieBKpRL"
      }
    },
    {
      "cell_type": "code",
      "source": [
        "response = make_request('datasets', {'startdate':'2018-10-01'}) #Here we get the dataset from October 1, 2018\n",
        "response.status_code #200 means okay but earlier 400 since I didnt paste the token id"
      ],
      "metadata": {
        "colab": {
          "base_uri": "https://localhost:8080/"
        },
        "id": "GAkqvnFiKxS_",
        "outputId": "e8f02eda-ae3a-42b7-ebe5-6cdb259fafc2"
      },
      "execution_count": 31,
      "outputs": [
        {
          "output_type": "execute_result",
          "data": {
            "text/plain": [
              "200"
            ]
          },
          "metadata": {},
          "execution_count": 31
        }
      ]
    },
    {
      "cell_type": "markdown",
      "source": [
        "#Get the keys of the result\n",
        "\n",
        "The result is a JSON object which we can access with the json() method of our Response object. JSON objects can be treated like dictionaries, so we can access the\n",
        "keys() just like we would a dictionary:"
      ],
      "metadata": {
        "id": "k5IGCz4VLekO"
      }
    },
    {
      "cell_type": "code",
      "source": [
        "response.json().keys()#shows the objects like dictionaries"
      ],
      "metadata": {
        "colab": {
          "base_uri": "https://localhost:8080/"
        },
        "id": "Xg5CfE2wLU-B",
        "outputId": "077c61de-1ce3-445b-c3a0-16c9f781ac02"
      },
      "execution_count": 33,
      "outputs": [
        {
          "output_type": "execute_result",
          "data": {
            "text/plain": [
              "dict_keys(['metadata', 'results'])"
            ]
          },
          "metadata": {},
          "execution_count": 33
        }
      ]
    },
    {
      "cell_type": "markdown",
      "source": [
        "The metadata of the JSON response will tell us information about the request and data we got back"
      ],
      "metadata": {
        "id": "a5u2n13RLjKE"
      }
    },
    {
      "cell_type": "code",
      "source": [
        "response.json()['metadata']"
      ],
      "metadata": {
        "colab": {
          "base_uri": "https://localhost:8080/"
        },
        "id": "ag8c7TG1LoxZ",
        "outputId": "181ac53a-b6f3-4ee6-a08e-4a0fd76ff10e"
      },
      "execution_count": 34,
      "outputs": [
        {
          "output_type": "execute_result",
          "data": {
            "text/plain": [
              "{'resultset': {'offset': 1, 'count': 11, 'limit': 25}}"
            ]
          },
          "metadata": {},
          "execution_count": 34
        }
      ]
    },
    {
      "cell_type": "code",
      "source": [
        "response.json()['results'][10] #there's a limit which is 25"
      ],
      "metadata": {
        "colab": {
          "base_uri": "https://localhost:8080/"
        },
        "id": "LCI69Q0pO_nz",
        "outputId": "628b0ae8-9770-48b7-97b1-50ec7eb127de"
      },
      "execution_count": 35,
      "outputs": [
        {
          "output_type": "execute_result",
          "data": {
            "text/plain": [
              "{'uid': 'gov.noaa.ncdc:C00313',\n",
              " 'mindate': '1900-01-01',\n",
              " 'maxdate': '2014-01-01',\n",
              " 'name': 'Precipitation Hourly',\n",
              " 'datacoverage': 1,\n",
              " 'id': 'PRECIP_HLY'}"
            ]
          },
          "metadata": {},
          "execution_count": 35
        }
      ]
    },
    {
      "cell_type": "code",
      "source": [
        "response.json()['results'][0].keys()#shows the key"
      ],
      "metadata": {
        "colab": {
          "base_uri": "https://localhost:8080/"
        },
        "id": "upf2oMK8QQ9P",
        "outputId": "ae115648-0006-44bd-a160-dabf733bd947"
      },
      "execution_count": 44,
      "outputs": [
        {
          "output_type": "execute_result",
          "data": {
            "text/plain": [
              "dict_keys(['date', 'datatype', 'station', 'attributes', 'value'])"
            ]
          },
          "metadata": {},
          "execution_count": 44
        }
      ]
    },
    {
      "cell_type": "markdown",
      "source": [
        "#Figure out what data is in the result\n",
        "The results key contains the data we requested. This is a list of what would be rows in our dataframe. Each entry in the list is a dictionary, so we can look at the keys to get\n",
        "the fields:"
      ],
      "metadata": {
        "id": "Ua-4hKJpLqJq"
      }
    },
    {
      "cell_type": "code",
      "source": [
        "response.json()['results'][0].keys()"
      ],
      "metadata": {
        "colab": {
          "base_uri": "https://localhost:8080/"
        },
        "id": "M2kXvsBNLcnP",
        "outputId": "19e21f9c-94fc-4406-cd76-231f5239abf2"
      },
      "execution_count": 10,
      "outputs": [
        {
          "output_type": "execute_result",
          "data": {
            "text/plain": [
              "dict_keys(['uid', 'mindate', 'maxdate', 'name', 'datacoverage', 'id'])"
            ]
          },
          "metadata": {},
          "execution_count": 10
        }
      ]
    },
    {
      "cell_type": "markdown",
      "source": [
        "#Parse the result\n",
        "We don't want all those fields, so we will use a list comphrension to take only the id and name fields out:"
      ],
      "metadata": {
        "id": "MR78sJKSLztm"
      }
    },
    {
      "cell_type": "code",
      "source": [
        "[(data['id'], data['name']) for data in response.json()['results']]"
      ],
      "metadata": {
        "colab": {
          "base_uri": "https://localhost:8080/"
        },
        "id": "4_adHLvbL_-a",
        "outputId": "74c03655-e475-4981-90fa-cd58fcf47f6f"
      },
      "execution_count": 11,
      "outputs": [
        {
          "output_type": "execute_result",
          "data": {
            "text/plain": [
              "[('GHCND', 'Daily Summaries'),\n",
              " ('GSOM', 'Global Summary of the Month'),\n",
              " ('GSOY', 'Global Summary of the Year'),\n",
              " ('NEXRAD2', 'Weather Radar (Level II)'),\n",
              " ('NEXRAD3', 'Weather Radar (Level III)'),\n",
              " ('NORMAL_ANN', 'Normals Annual/Seasonal'),\n",
              " ('NORMAL_DLY', 'Normals Daily'),\n",
              " ('NORMAL_HLY', 'Normals Hourly'),\n",
              " ('NORMAL_MLY', 'Normals Monthly'),\n",
              " ('PRECIP_15', 'Precipitation 15 Minute'),\n",
              " ('PRECIP_HLY', 'Precipitation Hourly')]"
            ]
          },
          "metadata": {},
          "execution_count": 11
        }
      ]
    },
    {
      "cell_type": "markdown",
      "source": [
        "#Figure out which data category we want\n",
        "\n",
        "The GHCND data containing daily summaries is what we want. Now we need to make another request to figure out which data categories we want to collect. This is the\n",
        "datacategories endpoint. We have to pass the datasetid for GHCND as the payload so the API knows which dataset we are asking about:"
      ],
      "metadata": {
        "id": "tld-B7ZnMTEe"
      }
    },
    {
      "cell_type": "code",
      "source": [
        "response = make_request( #we get the data category id\n",
        "'datacategories',\n",
        "payload={\n",
        "'datasetid' : 'GHCND'\n",
        "}\n",
        ")\n",
        "response.status_code"
      ],
      "metadata": {
        "colab": {
          "base_uri": "https://localhost:8080/"
        },
        "id": "_XHj3-C-MX76",
        "outputId": "93292b7a-88a3-4eb1-f25c-cdeb114b4159"
      },
      "execution_count": 12,
      "outputs": [
        {
          "output_type": "execute_result",
          "data": {
            "text/plain": [
              "200"
            ]
          },
          "metadata": {},
          "execution_count": 12
        }
      ]
    },
    {
      "cell_type": "markdown",
      "source": [
        "Since we know the API gives us a metadata and a results key in each response, we can see what is in the results portion of the JSON response:"
      ],
      "metadata": {
        "id": "nBWQCcZVMqw9"
      }
    },
    {
      "cell_type": "code",
      "source": [
        "response.json()['results']"
      ],
      "metadata": {
        "colab": {
          "base_uri": "https://localhost:8080/"
        },
        "id": "qB2N03MjMqhc",
        "outputId": "6b93b17e-9b1b-4101-84af-b097d5d02c22"
      },
      "execution_count": 13,
      "outputs": [
        {
          "output_type": "execute_result",
          "data": {
            "text/plain": [
              "[{'name': 'Evaporation', 'id': 'EVAP'},\n",
              " {'name': 'Land', 'id': 'LAND'},\n",
              " {'name': 'Precipitation', 'id': 'PRCP'},\n",
              " {'name': 'Sky cover & clouds', 'id': 'SKY'},\n",
              " {'name': 'Sunshine', 'id': 'SUN'},\n",
              " {'name': 'Air Temperature', 'id': 'TEMP'},\n",
              " {'name': 'Water', 'id': 'WATER'},\n",
              " {'name': 'Wind', 'id': 'WIND'},\n",
              " {'name': 'Weather Type', 'id': 'WXTYPE'}]"
            ]
          },
          "metadata": {},
          "execution_count": 13
        }
      ]
    },
    {
      "cell_type": "markdown",
      "source": [
        "#Grab the data type ID for the Temperature category\n",
        "\n",
        "We will be working with temperatures, so we want the TEMP data category. Now, we need to find the datatypes to collect. For this, we use the datatypes endpoint and\n",
        "provide the datacategoryid which was TEMP . We also specify a limit for the number of datatypes to return with the payload. If there are more than this we can make\n",
        "another request later, but for now, we just want to pick a few out:"
      ],
      "metadata": {
        "id": "1EdZubKtMtMz"
      }
    },
    {
      "cell_type": "code",
      "source": [
        "# get data type id\n",
        "response = make_request(\n",
        "'datatypes',\n",
        "payload={\n",
        "'datacategoryid' : 'TEMP',\n",
        "'limit' : 100\n",
        "}\n",
        ")\n",
        "response.status_code"
      ],
      "metadata": {
        "colab": {
          "base_uri": "https://localhost:8080/"
        },
        "id": "ux2IXbOjMz8a",
        "outputId": "704e9ee8-1e67-4788-cb8d-40178731e774"
      },
      "execution_count": 70,
      "outputs": [
        {
          "output_type": "execute_result",
          "data": {
            "text/plain": [
              "200"
            ]
          },
          "metadata": {},
          "execution_count": 70
        }
      ]
    },
    {
      "cell_type": "markdown",
      "source": [
        "We can grab the id and name fields for each of the entries in the results portion of the data. The fields we are interested in are at the bottom:"
      ],
      "metadata": {
        "id": "KBqAFurBM1Da"
      }
    },
    {
      "cell_type": "code",
      "source": [
        "[(datatype['id'], datatype['name']) for datatype in response.json()['results']][-5:] # look at the last 5"
      ],
      "metadata": {
        "colab": {
          "base_uri": "https://localhost:8080/"
        },
        "id": "COdivjn6M62j",
        "outputId": "db1231e0-bcc4-4b3d-9a13-5e0b0a64e9b3"
      },
      "execution_count": 15,
      "outputs": [
        {
          "output_type": "execute_result",
          "data": {
            "text/plain": [
              "[('MNTM', 'Monthly mean temperature'),\n",
              " ('TAVG', 'Average Temperature.'),\n",
              " ('TMAX', 'Maximum temperature'),\n",
              " ('TMIN', 'Minimum temperature'),\n",
              " ('TOBS', 'Temperature at the time of observation')]"
            ]
          },
          "metadata": {},
          "execution_count": 15
        }
      ]
    },
    {
      "cell_type": "markdown",
      "source": [
        "#Determine which Location Category we want\n",
        "\n",
        "Now that we know which datatypes we will be collecting, we need to find the location to use. First, we need to figure out the location category. This is obtained from the\n",
        "locationcategories endpoint by passing the datasetid :"
      ],
      "metadata": {
        "id": "OUZFoy7wNHlU"
      }
    },
    {
      "cell_type": "code",
      "source": [
        "# get location category id\n",
        "response = make_request(\n",
        "'locationcategories',\n",
        "{\n",
        "'datasetid' : 'GHCND'\n",
        "}\n",
        ")\n",
        "response.status_code #still says okay"
      ],
      "metadata": {
        "colab": {
          "base_uri": "https://localhost:8080/"
        },
        "id": "ixQbHrvZNINa",
        "outputId": "3d57effd-2dff-4c80-cc44-0aaf796d8146"
      },
      "execution_count": 16,
      "outputs": [
        {
          "output_type": "execute_result",
          "data": {
            "text/plain": [
              "200"
            ]
          },
          "metadata": {},
          "execution_count": 16
        }
      ]
    },
    {
      "cell_type": "markdown",
      "source": [
        "We can use pprint to print dictionaries in an easier-to-read format. After doing so, we can see there are 12 different location categories, but we are only interested in\n",
        "CITY :"
      ],
      "metadata": {
        "id": "IG5OzG2ENhoi"
      }
    },
    {
      "cell_type": "code",
      "source": [
        "import pprint\n",
        "pprint.pprint(response.json())"
      ],
      "metadata": {
        "colab": {
          "base_uri": "https://localhost:8080/"
        },
        "id": "yxYfDvjzNmep",
        "outputId": "6a50ebef-7bf5-4b74-bf8e-e41b48db8b3d"
      },
      "execution_count": 17,
      "outputs": [
        {
          "output_type": "stream",
          "name": "stdout",
          "text": [
            "{'metadata': {'resultset': {'count': 12, 'limit': 25, 'offset': 1}},\n",
            " 'results': [{'id': 'CITY', 'name': 'City'},\n",
            "             {'id': 'CLIM_DIV', 'name': 'Climate Division'},\n",
            "             {'id': 'CLIM_REG', 'name': 'Climate Region'},\n",
            "             {'id': 'CNTRY', 'name': 'Country'},\n",
            "             {'id': 'CNTY', 'name': 'County'},\n",
            "             {'id': 'HYD_ACC', 'name': 'Hydrologic Accounting Unit'},\n",
            "             {'id': 'HYD_CAT', 'name': 'Hydrologic Cataloging Unit'},\n",
            "             {'id': 'HYD_REG', 'name': 'Hydrologic Region'},\n",
            "             {'id': 'HYD_SUB', 'name': 'Hydrologic Subregion'},\n",
            "             {'id': 'ST', 'name': 'State'},\n",
            "             {'id': 'US_TERR', 'name': 'US Territory'},\n",
            "             {'id': 'ZIP', 'name': 'Zip Code'}]}\n"
          ]
        }
      ]
    },
    {
      "cell_type": "markdown",
      "source": [
        "# Get NYC Location ID\n",
        "In order to find the location ID for New York, we need to search through all the cities available. Since we can ask the API to return the cities sorted, we can use binary search\n",
        "to find New York quickly without having to make many requests or request lots of data at once. The following function makes the first request to see how big the list of cities\n",
        "is and looks at the first value. From there it decides if it needs to move towards the beginning or end of the list by comparing the city we are looking for to others\n",
        "alphabetically. Each time it makes a request it can rule out half of the remaining data to search"
      ],
      "metadata": {
        "id": "nUG3QqfyNn7M"
      }
    },
    {
      "cell_type": "code",
      "source": [
        "def get_item(name, what, endpoint, start=1, end=None):\n",
        "\n",
        "  # find the midpoint which we use to cut the data in half each time\n",
        "  mid = (start + (end if end else 1)) // 2\n",
        "  # lowercase the name so this is not case-sensitive\n",
        "  name = name.lower()\n",
        "  # define the payload we will send with each request\n",
        "  payload = {\n",
        "  'datasetid' : 'GHCND',\n",
        "  'sortfield' : 'name',\n",
        "  'offset' : mid, # we will change the offset each time\n",
        "  'limit' : 1 # we only want one value back\n",
        "  }\n",
        "  # make our request adding any additional filter parameters from `what`\n",
        "  response = make_request(endpoint, {**payload, **what})\n",
        "  if response.ok:\n",
        "    # if response is ok, grab the end index from the response metadata the first time through\n",
        "    end = end if end else response.json()['metadata']['resultset']['count']\n",
        "    # grab the lowercase version of the current name\n",
        "    current_name = response.json()['results'][0]['name'].lower()\n",
        "    # if what we are searching for is in the current name, we have found our item\n",
        "    if name in current_name:\n",
        "      return response.json()['results'][0] # return the found item\n",
        "    else:\n",
        "      if start >= end:\n",
        "    # if our start index is greater than or equal to our end, we couldn't find it\n",
        "          return {}\n",
        "      elif name < current_name:\n",
        "    # our name comes before the current name in the alphabet, so we search further to the left\n",
        "          return get_item(name, what, endpoint, start, mid - 1)\n",
        "      elif name > current_name:\n",
        "    # our name comes after the current name in the alphabet, so we search further to the right\n",
        "          return get_item(name, what, endpoint, mid + 1, end)\n",
        "  else:\n",
        "    # response wasn't ok, use code to determine why\n",
        "    print(f'Response not OK, status: {response.status_code}')\n",
        "def get_location(name):\n",
        "      return get_item(name, {'locationcategoryid' : 'CITY'}, 'locations')"
      ],
      "metadata": {
        "id": "DwnogHnfNuN1"
      },
      "execution_count": 23,
      "outputs": []
    },
    {
      "cell_type": "markdown",
      "source": [
        "When we use binary search to find New York, we find it in just 8 requests despite it being close to the middle of 1,983 entries:"
      ],
      "metadata": {
        "id": "XsXQSuhJOvR4"
      }
    },
    {
      "cell_type": "code",
      "source": [
        "# get NYC id\n",
        "nyc = get_location('New York')\n",
        "nyc"
      ],
      "metadata": {
        "colab": {
          "base_uri": "https://localhost:8080/"
        },
        "id": "_ztYGtm_Ov76",
        "outputId": "a40d6a95-54fb-4934-f290-368b76d0381c"
      },
      "execution_count": 24,
      "outputs": [
        {
          "output_type": "execute_result",
          "data": {
            "text/plain": [
              "{'mindate': '1869-01-01',\n",
              " 'maxdate': '2024-03-11',\n",
              " 'name': 'New York, NY US',\n",
              " 'datacoverage': 1,\n",
              " 'id': 'CITY:US360019'}"
            ]
          },
          "metadata": {},
          "execution_count": 24
        }
      ]
    },
    {
      "cell_type": "markdown",
      "source": [
        "# Get the station ID for Central Park\n",
        "The most granular data is found at the station level:"
      ],
      "metadata": {
        "id": "cyV9HlhzPh6b"
      }
    },
    {
      "cell_type": "code",
      "source": [
        "central_park = get_item('NY City Central Park', {'locationid' : nyc['id']}, 'stations')\n",
        "central_park"
      ],
      "metadata": {
        "colab": {
          "base_uri": "https://localhost:8080/"
        },
        "id": "qwubjDXOPjM8",
        "outputId": "d2492fc4-8502-4167-8417-9a0b8f91104b"
      },
      "execution_count": 36,
      "outputs": [
        {
          "output_type": "execute_result",
          "data": {
            "text/plain": [
              "{'elevation': 42.7,\n",
              " 'mindate': '1869-01-01',\n",
              " 'maxdate': '2024-03-10',\n",
              " 'latitude': 40.77898,\n",
              " 'name': 'NY CITY CENTRAL PARK, NY US',\n",
              " 'datacoverage': 1,\n",
              " 'id': 'GHCND:USW00094728',\n",
              " 'elevationUnit': 'METERS',\n",
              " 'longitude': -73.96925}"
            ]
          },
          "metadata": {},
          "execution_count": 36
        }
      ]
    },
    {
      "cell_type": "code",
      "source": [],
      "metadata": {
        "id": "DeHHXkReZPwg"
      },
      "execution_count": null,
      "outputs": []
    },
    {
      "cell_type": "markdown",
      "source": [
        "#Request the temperature data\n",
        "Finally, we have everything we need to make our request for the New York temperature data. For this we use the data endpoint and provide all the parameters we picked up\n",
        "throughout our exploration of the API"
      ],
      "metadata": {
        "id": "BIBAJIKxPnDy"
      }
    },
    {
      "cell_type": "code",
      "source": [
        "# get NYC daily summaries data\n",
        "response = make_request(\n",
        "'data',\n",
        "{\n",
        "'datasetid' : 'GHCND',\n",
        "'stationid' : central_park['id'],\n",
        "'locationid' : nyc['id'],\n",
        "'startdate' : '2018-10-01',\n",
        "'enddate' : '2018-10-31',\n",
        "'datatypeid' : ['TMIN', 'TMAX', 'TOBS'], # temperature at time of observation, min, and max\n",
        "'units' : 'metric',\n",
        "'limit' : 1000\n",
        "}\n",
        ")\n",
        "response.status_code"
      ],
      "metadata": {
        "colab": {
          "base_uri": "https://localhost:8080/"
        },
        "id": "aeZbANE9PoR7",
        "outputId": "1343af84-6f35-4628-b392-182b5276c04f"
      },
      "execution_count": 53,
      "outputs": [
        {
          "output_type": "execute_result",
          "data": {
            "text/plain": [
              "200"
            ]
          },
          "metadata": {},
          "execution_count": 53
        }
      ]
    },
    {
      "cell_type": "markdown",
      "source": [
        "# Create a DataFrame\n",
        "The Central Park station only has the daily minimum and maximum temperatures."
      ],
      "metadata": {
        "id": "SyDmSJUIPtH3"
      }
    },
    {
      "cell_type": "code",
      "source": [
        "import pandas as pd\n",
        "df = pd.DataFrame(response.json()['results'])\n",
        "df.head()"
      ],
      "metadata": {
        "colab": {
          "base_uri": "https://localhost:8080/",
          "height": 206
        },
        "id": "H4jNYUExPvg2",
        "outputId": "965a5f63-5443-4cd7-8482-2eefb00957d4"
      },
      "execution_count": 38,
      "outputs": [
        {
          "output_type": "execute_result",
          "data": {
            "text/plain": [
              "                  date datatype            station attributes  value\n",
              "0  2018-10-01T00:00:00     TMAX  GHCND:USW00094728   ,,W,2400   24.4\n",
              "1  2018-10-01T00:00:00     TMIN  GHCND:USW00094728   ,,W,2400   17.2\n",
              "2  2018-10-02T00:00:00     TMAX  GHCND:USW00094728   ,,W,2400   25.0\n",
              "3  2018-10-02T00:00:00     TMIN  GHCND:USW00094728   ,,W,2400   18.3\n",
              "4  2018-10-03T00:00:00     TMAX  GHCND:USW00094728   ,,W,2400   23.3"
            ],
            "text/html": [
              "\n",
              "  <div id=\"df-f6a4fbd0-fe4a-4cbc-a2aa-80a460be6cb6\" class=\"colab-df-container\">\n",
              "    <div>\n",
              "<style scoped>\n",
              "    .dataframe tbody tr th:only-of-type {\n",
              "        vertical-align: middle;\n",
              "    }\n",
              "\n",
              "    .dataframe tbody tr th {\n",
              "        vertical-align: top;\n",
              "    }\n",
              "\n",
              "    .dataframe thead th {\n",
              "        text-align: right;\n",
              "    }\n",
              "</style>\n",
              "<table border=\"1\" class=\"dataframe\">\n",
              "  <thead>\n",
              "    <tr style=\"text-align: right;\">\n",
              "      <th></th>\n",
              "      <th>date</th>\n",
              "      <th>datatype</th>\n",
              "      <th>station</th>\n",
              "      <th>attributes</th>\n",
              "      <th>value</th>\n",
              "    </tr>\n",
              "  </thead>\n",
              "  <tbody>\n",
              "    <tr>\n",
              "      <th>0</th>\n",
              "      <td>2018-10-01T00:00:00</td>\n",
              "      <td>TMAX</td>\n",
              "      <td>GHCND:USW00094728</td>\n",
              "      <td>,,W,2400</td>\n",
              "      <td>24.4</td>\n",
              "    </tr>\n",
              "    <tr>\n",
              "      <th>1</th>\n",
              "      <td>2018-10-01T00:00:00</td>\n",
              "      <td>TMIN</td>\n",
              "      <td>GHCND:USW00094728</td>\n",
              "      <td>,,W,2400</td>\n",
              "      <td>17.2</td>\n",
              "    </tr>\n",
              "    <tr>\n",
              "      <th>2</th>\n",
              "      <td>2018-10-02T00:00:00</td>\n",
              "      <td>TMAX</td>\n",
              "      <td>GHCND:USW00094728</td>\n",
              "      <td>,,W,2400</td>\n",
              "      <td>25.0</td>\n",
              "    </tr>\n",
              "    <tr>\n",
              "      <th>3</th>\n",
              "      <td>2018-10-02T00:00:00</td>\n",
              "      <td>TMIN</td>\n",
              "      <td>GHCND:USW00094728</td>\n",
              "      <td>,,W,2400</td>\n",
              "      <td>18.3</td>\n",
              "    </tr>\n",
              "    <tr>\n",
              "      <th>4</th>\n",
              "      <td>2018-10-03T00:00:00</td>\n",
              "      <td>TMAX</td>\n",
              "      <td>GHCND:USW00094728</td>\n",
              "      <td>,,W,2400</td>\n",
              "      <td>23.3</td>\n",
              "    </tr>\n",
              "  </tbody>\n",
              "</table>\n",
              "</div>\n",
              "    <div class=\"colab-df-buttons\">\n",
              "\n",
              "  <div class=\"colab-df-container\">\n",
              "    <button class=\"colab-df-convert\" onclick=\"convertToInteractive('df-f6a4fbd0-fe4a-4cbc-a2aa-80a460be6cb6')\"\n",
              "            title=\"Convert this dataframe to an interactive table.\"\n",
              "            style=\"display:none;\">\n",
              "\n",
              "  <svg xmlns=\"http://www.w3.org/2000/svg\" height=\"24px\" viewBox=\"0 -960 960 960\">\n",
              "    <path d=\"M120-120v-720h720v720H120Zm60-500h600v-160H180v160Zm220 220h160v-160H400v160Zm0 220h160v-160H400v160ZM180-400h160v-160H180v160Zm440 0h160v-160H620v160ZM180-180h160v-160H180v160Zm440 0h160v-160H620v160Z\"/>\n",
              "  </svg>\n",
              "    </button>\n",
              "\n",
              "  <style>\n",
              "    .colab-df-container {\n",
              "      display:flex;\n",
              "      gap: 12px;\n",
              "    }\n",
              "\n",
              "    .colab-df-convert {\n",
              "      background-color: #E8F0FE;\n",
              "      border: none;\n",
              "      border-radius: 50%;\n",
              "      cursor: pointer;\n",
              "      display: none;\n",
              "      fill: #1967D2;\n",
              "      height: 32px;\n",
              "      padding: 0 0 0 0;\n",
              "      width: 32px;\n",
              "    }\n",
              "\n",
              "    .colab-df-convert:hover {\n",
              "      background-color: #E2EBFA;\n",
              "      box-shadow: 0px 1px 2px rgba(60, 64, 67, 0.3), 0px 1px 3px 1px rgba(60, 64, 67, 0.15);\n",
              "      fill: #174EA6;\n",
              "    }\n",
              "\n",
              "    .colab-df-buttons div {\n",
              "      margin-bottom: 4px;\n",
              "    }\n",
              "\n",
              "    [theme=dark] .colab-df-convert {\n",
              "      background-color: #3B4455;\n",
              "      fill: #D2E3FC;\n",
              "    }\n",
              "\n",
              "    [theme=dark] .colab-df-convert:hover {\n",
              "      background-color: #434B5C;\n",
              "      box-shadow: 0px 1px 3px 1px rgba(0, 0, 0, 0.15);\n",
              "      filter: drop-shadow(0px 1px 2px rgba(0, 0, 0, 0.3));\n",
              "      fill: #FFFFFF;\n",
              "    }\n",
              "  </style>\n",
              "\n",
              "    <script>\n",
              "      const buttonEl =\n",
              "        document.querySelector('#df-f6a4fbd0-fe4a-4cbc-a2aa-80a460be6cb6 button.colab-df-convert');\n",
              "      buttonEl.style.display =\n",
              "        google.colab.kernel.accessAllowed ? 'block' : 'none';\n",
              "\n",
              "      async function convertToInteractive(key) {\n",
              "        const element = document.querySelector('#df-f6a4fbd0-fe4a-4cbc-a2aa-80a460be6cb6');\n",
              "        const dataTable =\n",
              "          await google.colab.kernel.invokeFunction('convertToInteractive',\n",
              "                                                    [key], {});\n",
              "        if (!dataTable) return;\n",
              "\n",
              "        const docLinkHtml = 'Like what you see? Visit the ' +\n",
              "          '<a target=\"_blank\" href=https://colab.research.google.com/notebooks/data_table.ipynb>data table notebook</a>'\n",
              "          + ' to learn more about interactive tables.';\n",
              "        element.innerHTML = '';\n",
              "        dataTable['output_type'] = 'display_data';\n",
              "        await google.colab.output.renderOutput(dataTable, element);\n",
              "        const docLink = document.createElement('div');\n",
              "        docLink.innerHTML = docLinkHtml;\n",
              "        element.appendChild(docLink);\n",
              "      }\n",
              "    </script>\n",
              "  </div>\n",
              "\n",
              "\n",
              "<div id=\"df-d8568310-fd4f-432a-b056-ec2347360267\">\n",
              "  <button class=\"colab-df-quickchart\" onclick=\"quickchart('df-d8568310-fd4f-432a-b056-ec2347360267')\"\n",
              "            title=\"Suggest charts\"\n",
              "            style=\"display:none;\">\n",
              "\n",
              "<svg xmlns=\"http://www.w3.org/2000/svg\" height=\"24px\"viewBox=\"0 0 24 24\"\n",
              "     width=\"24px\">\n",
              "    <g>\n",
              "        <path d=\"M19 3H5c-1.1 0-2 .9-2 2v14c0 1.1.9 2 2 2h14c1.1 0 2-.9 2-2V5c0-1.1-.9-2-2-2zM9 17H7v-7h2v7zm4 0h-2V7h2v10zm4 0h-2v-4h2v4z\"/>\n",
              "    </g>\n",
              "</svg>\n",
              "  </button>\n",
              "\n",
              "<style>\n",
              "  .colab-df-quickchart {\n",
              "      --bg-color: #E8F0FE;\n",
              "      --fill-color: #1967D2;\n",
              "      --hover-bg-color: #E2EBFA;\n",
              "      --hover-fill-color: #174EA6;\n",
              "      --disabled-fill-color: #AAA;\n",
              "      --disabled-bg-color: #DDD;\n",
              "  }\n",
              "\n",
              "  [theme=dark] .colab-df-quickchart {\n",
              "      --bg-color: #3B4455;\n",
              "      --fill-color: #D2E3FC;\n",
              "      --hover-bg-color: #434B5C;\n",
              "      --hover-fill-color: #FFFFFF;\n",
              "      --disabled-bg-color: #3B4455;\n",
              "      --disabled-fill-color: #666;\n",
              "  }\n",
              "\n",
              "  .colab-df-quickchart {\n",
              "    background-color: var(--bg-color);\n",
              "    border: none;\n",
              "    border-radius: 50%;\n",
              "    cursor: pointer;\n",
              "    display: none;\n",
              "    fill: var(--fill-color);\n",
              "    height: 32px;\n",
              "    padding: 0;\n",
              "    width: 32px;\n",
              "  }\n",
              "\n",
              "  .colab-df-quickchart:hover {\n",
              "    background-color: var(--hover-bg-color);\n",
              "    box-shadow: 0 1px 2px rgba(60, 64, 67, 0.3), 0 1px 3px 1px rgba(60, 64, 67, 0.15);\n",
              "    fill: var(--button-hover-fill-color);\n",
              "  }\n",
              "\n",
              "  .colab-df-quickchart-complete:disabled,\n",
              "  .colab-df-quickchart-complete:disabled:hover {\n",
              "    background-color: var(--disabled-bg-color);\n",
              "    fill: var(--disabled-fill-color);\n",
              "    box-shadow: none;\n",
              "  }\n",
              "\n",
              "  .colab-df-spinner {\n",
              "    border: 2px solid var(--fill-color);\n",
              "    border-color: transparent;\n",
              "    border-bottom-color: var(--fill-color);\n",
              "    animation:\n",
              "      spin 1s steps(1) infinite;\n",
              "  }\n",
              "\n",
              "  @keyframes spin {\n",
              "    0% {\n",
              "      border-color: transparent;\n",
              "      border-bottom-color: var(--fill-color);\n",
              "      border-left-color: var(--fill-color);\n",
              "    }\n",
              "    20% {\n",
              "      border-color: transparent;\n",
              "      border-left-color: var(--fill-color);\n",
              "      border-top-color: var(--fill-color);\n",
              "    }\n",
              "    30% {\n",
              "      border-color: transparent;\n",
              "      border-left-color: var(--fill-color);\n",
              "      border-top-color: var(--fill-color);\n",
              "      border-right-color: var(--fill-color);\n",
              "    }\n",
              "    40% {\n",
              "      border-color: transparent;\n",
              "      border-right-color: var(--fill-color);\n",
              "      border-top-color: var(--fill-color);\n",
              "    }\n",
              "    60% {\n",
              "      border-color: transparent;\n",
              "      border-right-color: var(--fill-color);\n",
              "    }\n",
              "    80% {\n",
              "      border-color: transparent;\n",
              "      border-right-color: var(--fill-color);\n",
              "      border-bottom-color: var(--fill-color);\n",
              "    }\n",
              "    90% {\n",
              "      border-color: transparent;\n",
              "      border-bottom-color: var(--fill-color);\n",
              "    }\n",
              "  }\n",
              "</style>\n",
              "\n",
              "  <script>\n",
              "    async function quickchart(key) {\n",
              "      const quickchartButtonEl =\n",
              "        document.querySelector('#' + key + ' button');\n",
              "      quickchartButtonEl.disabled = true;  // To prevent multiple clicks.\n",
              "      quickchartButtonEl.classList.add('colab-df-spinner');\n",
              "      try {\n",
              "        const charts = await google.colab.kernel.invokeFunction(\n",
              "            'suggestCharts', [key], {});\n",
              "      } catch (error) {\n",
              "        console.error('Error during call to suggestCharts:', error);\n",
              "      }\n",
              "      quickchartButtonEl.classList.remove('colab-df-spinner');\n",
              "      quickchartButtonEl.classList.add('colab-df-quickchart-complete');\n",
              "    }\n",
              "    (() => {\n",
              "      let quickchartButtonEl =\n",
              "        document.querySelector('#df-d8568310-fd4f-432a-b056-ec2347360267 button');\n",
              "      quickchartButtonEl.style.display =\n",
              "        google.colab.kernel.accessAllowed ? 'block' : 'none';\n",
              "    })();\n",
              "  </script>\n",
              "</div>\n",
              "    </div>\n",
              "  </div>\n"
            ],
            "application/vnd.google.colaboratory.intrinsic+json": {
              "type": "dataframe",
              "variable_name": "df",
              "summary": "{\n  \"name\": \"df\",\n  \"rows\": 62,\n  \"fields\": [\n    {\n      \"column\": \"date\",\n      \"properties\": {\n        \"dtype\": \"object\",\n        \"num_unique_values\": 31,\n        \"samples\": [\n          \"2018-10-28T00:00:00\",\n          \"2018-10-16T00:00:00\",\n          \"2018-10-24T00:00:00\"\n        ],\n        \"semantic_type\": \"\",\n        \"description\": \"\"\n      }\n    },\n    {\n      \"column\": \"datatype\",\n      \"properties\": {\n        \"dtype\": \"category\",\n        \"num_unique_values\": 2,\n        \"samples\": [\n          \"TMIN\",\n          \"TMAX\"\n        ],\n        \"semantic_type\": \"\",\n        \"description\": \"\"\n      }\n    },\n    {\n      \"column\": \"station\",\n      \"properties\": {\n        \"dtype\": \"category\",\n        \"num_unique_values\": 1,\n        \"samples\": [\n          \"GHCND:USW00094728\"\n        ],\n        \"semantic_type\": \"\",\n        \"description\": \"\"\n      }\n    },\n    {\n      \"column\": \"attributes\",\n      \"properties\": {\n        \"dtype\": \"category\",\n        \"num_unique_values\": 1,\n        \"samples\": [\n          \",,W,2400\"\n        ],\n        \"semantic_type\": \"\",\n        \"description\": \"\"\n      }\n    },\n    {\n      \"column\": \"value\",\n      \"properties\": {\n        \"dtype\": \"number\",\n        \"std\": 6.573912032246916,\n        \"min\": 3.3,\n        \"max\": 26.7,\n        \"num_unique_values\": 33,\n        \"samples\": [\n          7.2\n        ],\n        \"semantic_type\": \"\",\n        \"description\": \"\"\n      }\n    }\n  ]\n}"
            }
          },
          "metadata": {},
          "execution_count": 38
        }
      ]
    },
    {
      "cell_type": "markdown",
      "source": [
        "We didn't get TOBS because the station doesn't measure that:"
      ],
      "metadata": {
        "id": "JFah6LgzPye3"
      }
    },
    {
      "cell_type": "code",
      "source": [
        "df.datatype.unique()"
      ],
      "metadata": {
        "colab": {
          "base_uri": "https://localhost:8080/"
        },
        "id": "vS_H0RTRP0de",
        "outputId": "5a6eeea7-8317-4f14-c4b3-d85834bb8887"
      },
      "execution_count": 39,
      "outputs": [
        {
          "output_type": "execute_result",
          "data": {
            "text/plain": [
              "array(['TMAX', 'TMIN'], dtype=object)"
            ]
          },
          "metadata": {},
          "execution_count": 39
        }
      ]
    },
    {
      "cell_type": "markdown",
      "source": [
        "Despite showing up in the data as measuring it... Real-world data is dirty!"
      ],
      "metadata": {
        "id": "j11ie5qtP6ql"
      }
    },
    {
      "cell_type": "code",
      "source": [
        "if get_item(\n",
        "'NY City Central Park', {'locationid' : nyc['id'], 'datatypeid': 'TOBS'}, 'stations'\n",
        "):\n",
        "  print('Found!')"
      ],
      "metadata": {
        "colab": {
          "base_uri": "https://localhost:8080/"
        },
        "id": "CeUmGR7KP6TU",
        "outputId": "41a78f07-447d-49d3-fc39-3f99306bc964"
      },
      "execution_count": 41,
      "outputs": [
        {
          "output_type": "stream",
          "name": "stdout",
          "text": [
            "Found!\n"
          ]
        }
      ]
    },
    {
      "cell_type": "markdown",
      "source": [
        "#Using a different station\n",
        "Let's use LaGuardia airport instead. It contains TAVG (average daily temperature):"
      ],
      "metadata": {
        "id": "72mPTmVNQAYL"
      }
    },
    {
      "cell_type": "code",
      "source": [
        "laguardia = get_item(\n",
        "'LaGuardia', {'locationid' : nyc['id']}, 'stations'\n",
        ")\n",
        "laguardia"
      ],
      "metadata": {
        "colab": {
          "base_uri": "https://localhost:8080/"
        },
        "id": "7X8s-CjfQBx0",
        "outputId": "5dcf7172-5da6-42d3-941f-02b65101da97"
      },
      "execution_count": 43,
      "outputs": [
        {
          "output_type": "execute_result",
          "data": {
            "text/plain": [
              "{'elevation': 3,\n",
              " 'mindate': '1939-10-07',\n",
              " 'maxdate': '2024-03-11',\n",
              " 'latitude': 40.77945,\n",
              " 'name': 'LAGUARDIA AIRPORT, NY US',\n",
              " 'datacoverage': 1,\n",
              " 'id': 'GHCND:USW00014732',\n",
              " 'elevationUnit': 'METERS',\n",
              " 'longitude': -73.88027}"
            ]
          },
          "metadata": {},
          "execution_count": 43
        }
      ]
    },
    {
      "cell_type": "markdown",
      "source": [
        "We make our request using the LaGuardia airport station this time and ask for TAVG instead of TOBS"
      ],
      "metadata": {
        "id": "tqyfGx4aQf7e"
      }
    },
    {
      "cell_type": "code",
      "source": [
        "# get NYC daily summaries data\n",
        "response = make_request(\n",
        "  'data',\n",
        "{\n",
        "  'datasetid' : 'GHCND',\n",
        "  'stationid' : laguardia['id'],\n",
        "  'locationid' : nyc['id'],\n",
        "  'startdate' : '2018-10-01',\n",
        "  'enddate' : '2018-10-31',\n",
        "  'datatypeid' : ['TMIN', 'TMAX', 'TAVG'], # temperature at time of observation, min, and max\n",
        "  'units' : 'metric',\n",
        "  'limit' : 1000\n",
        "  }\n",
        "  )\n",
        "response.status_code"
      ],
      "metadata": {
        "colab": {
          "base_uri": "https://localhost:8080/"
        },
        "id": "fy6CwrIAQh9M",
        "outputId": "b1e2102b-d9c6-4fc8-dba6-9ab1f3f9b4f0"
      },
      "execution_count": 66,
      "outputs": [
        {
          "output_type": "execute_result",
          "data": {
            "text/plain": [
              "200"
            ]
          },
          "metadata": {},
          "execution_count": 66
        }
      ]
    },
    {
      "cell_type": "markdown",
      "source": [
        "The request was successful, so let's make a dataframe"
      ],
      "metadata": {
        "id": "314TGaa-Qkhy"
      }
    },
    {
      "cell_type": "code",
      "source": [
        "df = pd.DataFrame(response.json()['results'])\n",
        "df.head()#shows the first part"
      ],
      "metadata": {
        "colab": {
          "base_uri": "https://localhost:8080/",
          "height": 206
        },
        "id": "bvRprmdLQlsB",
        "outputId": "4630b8af-ee2a-4462-f429-b6087b6e9b9f"
      },
      "execution_count": 59,
      "outputs": [
        {
          "output_type": "execute_result",
          "data": {
            "text/plain": [
              "                  date datatype            station attributes  value\n",
              "0  2018-10-01T00:00:00     TMAX  GHCND:USW00094728   ,,W,2400   24.4\n",
              "1  2018-10-01T00:00:00     TMIN  GHCND:USW00094728   ,,W,2400   17.2\n",
              "2  2018-10-02T00:00:00     TMAX  GHCND:USW00094728   ,,W,2400   25.0\n",
              "3  2018-10-02T00:00:00     TMIN  GHCND:USW00094728   ,,W,2400   18.3\n",
              "4  2018-10-03T00:00:00     TMAX  GHCND:USW00094728   ,,W,2400   23.3"
            ],
            "text/html": [
              "\n",
              "  <div id=\"df-8e1520c7-50a2-4d40-8e48-855bf5440ee3\" class=\"colab-df-container\">\n",
              "    <div>\n",
              "<style scoped>\n",
              "    .dataframe tbody tr th:only-of-type {\n",
              "        vertical-align: middle;\n",
              "    }\n",
              "\n",
              "    .dataframe tbody tr th {\n",
              "        vertical-align: top;\n",
              "    }\n",
              "\n",
              "    .dataframe thead th {\n",
              "        text-align: right;\n",
              "    }\n",
              "</style>\n",
              "<table border=\"1\" class=\"dataframe\">\n",
              "  <thead>\n",
              "    <tr style=\"text-align: right;\">\n",
              "      <th></th>\n",
              "      <th>date</th>\n",
              "      <th>datatype</th>\n",
              "      <th>station</th>\n",
              "      <th>attributes</th>\n",
              "      <th>value</th>\n",
              "    </tr>\n",
              "  </thead>\n",
              "  <tbody>\n",
              "    <tr>\n",
              "      <th>0</th>\n",
              "      <td>2018-10-01T00:00:00</td>\n",
              "      <td>TMAX</td>\n",
              "      <td>GHCND:USW00094728</td>\n",
              "      <td>,,W,2400</td>\n",
              "      <td>24.4</td>\n",
              "    </tr>\n",
              "    <tr>\n",
              "      <th>1</th>\n",
              "      <td>2018-10-01T00:00:00</td>\n",
              "      <td>TMIN</td>\n",
              "      <td>GHCND:USW00094728</td>\n",
              "      <td>,,W,2400</td>\n",
              "      <td>17.2</td>\n",
              "    </tr>\n",
              "    <tr>\n",
              "      <th>2</th>\n",
              "      <td>2018-10-02T00:00:00</td>\n",
              "      <td>TMAX</td>\n",
              "      <td>GHCND:USW00094728</td>\n",
              "      <td>,,W,2400</td>\n",
              "      <td>25.0</td>\n",
              "    </tr>\n",
              "    <tr>\n",
              "      <th>3</th>\n",
              "      <td>2018-10-02T00:00:00</td>\n",
              "      <td>TMIN</td>\n",
              "      <td>GHCND:USW00094728</td>\n",
              "      <td>,,W,2400</td>\n",
              "      <td>18.3</td>\n",
              "    </tr>\n",
              "    <tr>\n",
              "      <th>4</th>\n",
              "      <td>2018-10-03T00:00:00</td>\n",
              "      <td>TMAX</td>\n",
              "      <td>GHCND:USW00094728</td>\n",
              "      <td>,,W,2400</td>\n",
              "      <td>23.3</td>\n",
              "    </tr>\n",
              "  </tbody>\n",
              "</table>\n",
              "</div>\n",
              "    <div class=\"colab-df-buttons\">\n",
              "\n",
              "  <div class=\"colab-df-container\">\n",
              "    <button class=\"colab-df-convert\" onclick=\"convertToInteractive('df-8e1520c7-50a2-4d40-8e48-855bf5440ee3')\"\n",
              "            title=\"Convert this dataframe to an interactive table.\"\n",
              "            style=\"display:none;\">\n",
              "\n",
              "  <svg xmlns=\"http://www.w3.org/2000/svg\" height=\"24px\" viewBox=\"0 -960 960 960\">\n",
              "    <path d=\"M120-120v-720h720v720H120Zm60-500h600v-160H180v160Zm220 220h160v-160H400v160Zm0 220h160v-160H400v160ZM180-400h160v-160H180v160Zm440 0h160v-160H620v160ZM180-180h160v-160H180v160Zm440 0h160v-160H620v160Z\"/>\n",
              "  </svg>\n",
              "    </button>\n",
              "\n",
              "  <style>\n",
              "    .colab-df-container {\n",
              "      display:flex;\n",
              "      gap: 12px;\n",
              "    }\n",
              "\n",
              "    .colab-df-convert {\n",
              "      background-color: #E8F0FE;\n",
              "      border: none;\n",
              "      border-radius: 50%;\n",
              "      cursor: pointer;\n",
              "      display: none;\n",
              "      fill: #1967D2;\n",
              "      height: 32px;\n",
              "      padding: 0 0 0 0;\n",
              "      width: 32px;\n",
              "    }\n",
              "\n",
              "    .colab-df-convert:hover {\n",
              "      background-color: #E2EBFA;\n",
              "      box-shadow: 0px 1px 2px rgba(60, 64, 67, 0.3), 0px 1px 3px 1px rgba(60, 64, 67, 0.15);\n",
              "      fill: #174EA6;\n",
              "    }\n",
              "\n",
              "    .colab-df-buttons div {\n",
              "      margin-bottom: 4px;\n",
              "    }\n",
              "\n",
              "    [theme=dark] .colab-df-convert {\n",
              "      background-color: #3B4455;\n",
              "      fill: #D2E3FC;\n",
              "    }\n",
              "\n",
              "    [theme=dark] .colab-df-convert:hover {\n",
              "      background-color: #434B5C;\n",
              "      box-shadow: 0px 1px 3px 1px rgba(0, 0, 0, 0.15);\n",
              "      filter: drop-shadow(0px 1px 2px rgba(0, 0, 0, 0.3));\n",
              "      fill: #FFFFFF;\n",
              "    }\n",
              "  </style>\n",
              "\n",
              "    <script>\n",
              "      const buttonEl =\n",
              "        document.querySelector('#df-8e1520c7-50a2-4d40-8e48-855bf5440ee3 button.colab-df-convert');\n",
              "      buttonEl.style.display =\n",
              "        google.colab.kernel.accessAllowed ? 'block' : 'none';\n",
              "\n",
              "      async function convertToInteractive(key) {\n",
              "        const element = document.querySelector('#df-8e1520c7-50a2-4d40-8e48-855bf5440ee3');\n",
              "        const dataTable =\n",
              "          await google.colab.kernel.invokeFunction('convertToInteractive',\n",
              "                                                    [key], {});\n",
              "        if (!dataTable) return;\n",
              "\n",
              "        const docLinkHtml = 'Like what you see? Visit the ' +\n",
              "          '<a target=\"_blank\" href=https://colab.research.google.com/notebooks/data_table.ipynb>data table notebook</a>'\n",
              "          + ' to learn more about interactive tables.';\n",
              "        element.innerHTML = '';\n",
              "        dataTable['output_type'] = 'display_data';\n",
              "        await google.colab.output.renderOutput(dataTable, element);\n",
              "        const docLink = document.createElement('div');\n",
              "        docLink.innerHTML = docLinkHtml;\n",
              "        element.appendChild(docLink);\n",
              "      }\n",
              "    </script>\n",
              "  </div>\n",
              "\n",
              "\n",
              "<div id=\"df-bfe44af9-82d6-4267-bc0a-73a42ca8daf3\">\n",
              "  <button class=\"colab-df-quickchart\" onclick=\"quickchart('df-bfe44af9-82d6-4267-bc0a-73a42ca8daf3')\"\n",
              "            title=\"Suggest charts\"\n",
              "            style=\"display:none;\">\n",
              "\n",
              "<svg xmlns=\"http://www.w3.org/2000/svg\" height=\"24px\"viewBox=\"0 0 24 24\"\n",
              "     width=\"24px\">\n",
              "    <g>\n",
              "        <path d=\"M19 3H5c-1.1 0-2 .9-2 2v14c0 1.1.9 2 2 2h14c1.1 0 2-.9 2-2V5c0-1.1-.9-2-2-2zM9 17H7v-7h2v7zm4 0h-2V7h2v10zm4 0h-2v-4h2v4z\"/>\n",
              "    </g>\n",
              "</svg>\n",
              "  </button>\n",
              "\n",
              "<style>\n",
              "  .colab-df-quickchart {\n",
              "      --bg-color: #E8F0FE;\n",
              "      --fill-color: #1967D2;\n",
              "      --hover-bg-color: #E2EBFA;\n",
              "      --hover-fill-color: #174EA6;\n",
              "      --disabled-fill-color: #AAA;\n",
              "      --disabled-bg-color: #DDD;\n",
              "  }\n",
              "\n",
              "  [theme=dark] .colab-df-quickchart {\n",
              "      --bg-color: #3B4455;\n",
              "      --fill-color: #D2E3FC;\n",
              "      --hover-bg-color: #434B5C;\n",
              "      --hover-fill-color: #FFFFFF;\n",
              "      --disabled-bg-color: #3B4455;\n",
              "      --disabled-fill-color: #666;\n",
              "  }\n",
              "\n",
              "  .colab-df-quickchart {\n",
              "    background-color: var(--bg-color);\n",
              "    border: none;\n",
              "    border-radius: 50%;\n",
              "    cursor: pointer;\n",
              "    display: none;\n",
              "    fill: var(--fill-color);\n",
              "    height: 32px;\n",
              "    padding: 0;\n",
              "    width: 32px;\n",
              "  }\n",
              "\n",
              "  .colab-df-quickchart:hover {\n",
              "    background-color: var(--hover-bg-color);\n",
              "    box-shadow: 0 1px 2px rgba(60, 64, 67, 0.3), 0 1px 3px 1px rgba(60, 64, 67, 0.15);\n",
              "    fill: var(--button-hover-fill-color);\n",
              "  }\n",
              "\n",
              "  .colab-df-quickchart-complete:disabled,\n",
              "  .colab-df-quickchart-complete:disabled:hover {\n",
              "    background-color: var(--disabled-bg-color);\n",
              "    fill: var(--disabled-fill-color);\n",
              "    box-shadow: none;\n",
              "  }\n",
              "\n",
              "  .colab-df-spinner {\n",
              "    border: 2px solid var(--fill-color);\n",
              "    border-color: transparent;\n",
              "    border-bottom-color: var(--fill-color);\n",
              "    animation:\n",
              "      spin 1s steps(1) infinite;\n",
              "  }\n",
              "\n",
              "  @keyframes spin {\n",
              "    0% {\n",
              "      border-color: transparent;\n",
              "      border-bottom-color: var(--fill-color);\n",
              "      border-left-color: var(--fill-color);\n",
              "    }\n",
              "    20% {\n",
              "      border-color: transparent;\n",
              "      border-left-color: var(--fill-color);\n",
              "      border-top-color: var(--fill-color);\n",
              "    }\n",
              "    30% {\n",
              "      border-color: transparent;\n",
              "      border-left-color: var(--fill-color);\n",
              "      border-top-color: var(--fill-color);\n",
              "      border-right-color: var(--fill-color);\n",
              "    }\n",
              "    40% {\n",
              "      border-color: transparent;\n",
              "      border-right-color: var(--fill-color);\n",
              "      border-top-color: var(--fill-color);\n",
              "    }\n",
              "    60% {\n",
              "      border-color: transparent;\n",
              "      border-right-color: var(--fill-color);\n",
              "    }\n",
              "    80% {\n",
              "      border-color: transparent;\n",
              "      border-right-color: var(--fill-color);\n",
              "      border-bottom-color: var(--fill-color);\n",
              "    }\n",
              "    90% {\n",
              "      border-color: transparent;\n",
              "      border-bottom-color: var(--fill-color);\n",
              "    }\n",
              "  }\n",
              "</style>\n",
              "\n",
              "  <script>\n",
              "    async function quickchart(key) {\n",
              "      const quickchartButtonEl =\n",
              "        document.querySelector('#' + key + ' button');\n",
              "      quickchartButtonEl.disabled = true;  // To prevent multiple clicks.\n",
              "      quickchartButtonEl.classList.add('colab-df-spinner');\n",
              "      try {\n",
              "        const charts = await google.colab.kernel.invokeFunction(\n",
              "            'suggestCharts', [key], {});\n",
              "      } catch (error) {\n",
              "        console.error('Error during call to suggestCharts:', error);\n",
              "      }\n",
              "      quickchartButtonEl.classList.remove('colab-df-spinner');\n",
              "      quickchartButtonEl.classList.add('colab-df-quickchart-complete');\n",
              "    }\n",
              "    (() => {\n",
              "      let quickchartButtonEl =\n",
              "        document.querySelector('#df-bfe44af9-82d6-4267-bc0a-73a42ca8daf3 button');\n",
              "      quickchartButtonEl.style.display =\n",
              "        google.colab.kernel.accessAllowed ? 'block' : 'none';\n",
              "    })();\n",
              "  </script>\n",
              "</div>\n",
              "    </div>\n",
              "  </div>\n"
            ],
            "application/vnd.google.colaboratory.intrinsic+json": {
              "type": "dataframe",
              "variable_name": "df",
              "summary": "{\n  \"name\": \"df\",\n  \"rows\": 62,\n  \"fields\": [\n    {\n      \"column\": \"date\",\n      \"properties\": {\n        \"dtype\": \"object\",\n        \"num_unique_values\": 31,\n        \"samples\": [\n          \"2018-10-28T00:00:00\",\n          \"2018-10-16T00:00:00\",\n          \"2018-10-24T00:00:00\"\n        ],\n        \"semantic_type\": \"\",\n        \"description\": \"\"\n      }\n    },\n    {\n      \"column\": \"datatype\",\n      \"properties\": {\n        \"dtype\": \"category\",\n        \"num_unique_values\": 2,\n        \"samples\": [\n          \"TMIN\",\n          \"TMAX\"\n        ],\n        \"semantic_type\": \"\",\n        \"description\": \"\"\n      }\n    },\n    {\n      \"column\": \"station\",\n      \"properties\": {\n        \"dtype\": \"category\",\n        \"num_unique_values\": 1,\n        \"samples\": [\n          \"GHCND:USW00094728\"\n        ],\n        \"semantic_type\": \"\",\n        \"description\": \"\"\n      }\n    },\n    {\n      \"column\": \"attributes\",\n      \"properties\": {\n        \"dtype\": \"category\",\n        \"num_unique_values\": 1,\n        \"samples\": [\n          \",,W,2400\"\n        ],\n        \"semantic_type\": \"\",\n        \"description\": \"\"\n      }\n    },\n    {\n      \"column\": \"value\",\n      \"properties\": {\n        \"dtype\": \"number\",\n        \"std\": 6.573912032246916,\n        \"min\": 3.3,\n        \"max\": 26.7,\n        \"num_unique_values\": 33,\n        \"samples\": [\n          7.2\n        ],\n        \"semantic_type\": \"\",\n        \"description\": \"\"\n      }\n    }\n  ]\n}"
            }
          },
          "metadata": {},
          "execution_count": 59
        }
      ]
    },
    {
      "cell_type": "markdown",
      "source": [
        "We should check we got what we wanted: 31 entries for TAVG, TMAX, and TMIN (1 per day):"
      ],
      "metadata": {
        "id": "BA2_diYlQsqp"
      }
    },
    {
      "cell_type": "code",
      "source": [
        "df.datatype.value_counts()"
      ],
      "metadata": {
        "colab": {
          "base_uri": "https://localhost:8080/"
        },
        "id": "z_Jglb4KQt7B",
        "outputId": "0e5861fe-bdc5-49ce-f1ec-d7cccf827a7f"
      },
      "execution_count": 57,
      "outputs": [
        {
          "output_type": "execute_result",
          "data": {
            "text/plain": [
              "TMAX    31\n",
              "TMIN    31\n",
              "Name: datatype, dtype: int64"
            ]
          },
          "metadata": {},
          "execution_count": 57
        }
      ]
    },
    {
      "cell_type": "markdown",
      "source": [
        "Write the data to a CSV file for use in other notebooks"
      ],
      "metadata": {
        "id": "R3IAZcMcQybX"
      }
    },
    {
      "cell_type": "code",
      "source": [
        "df.to_csv('nyc_temperatures.csv', index=False) #when entering 'data/' gives me an error so I just removed it"
      ],
      "metadata": {
        "id": "yaZ0ThAOQ0eW"
      },
      "execution_count": 68,
      "outputs": []
    }
  ]
}